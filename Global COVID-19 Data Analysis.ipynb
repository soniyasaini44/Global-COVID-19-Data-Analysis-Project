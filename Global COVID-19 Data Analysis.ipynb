{
 "cells": [
  {
   "cell_type": "markdown",
   "id": "8de541a4-732d-4dfc-bc29-f4c4f35eaede",
   "metadata": {},
   "source": [
    "Step 1: Import COVID-19 Dataset from Kaggle using API"
   ]
  },
  {
   "cell_type": "code",
   "execution_count": 1,
   "id": "00f1ee57-5231-4550-acb2-8854e99ed2bb",
   "metadata": {},
   "outputs": [
    {
     "name": "stdout",
     "output_type": "stream",
     "text": [
      "Requirement already satisfied: kagglehub in c:\\users\\chand\\anaconda3\\lib\\site-packages (0.3.12)\n",
      "Requirement already satisfied: packaging in c:\\users\\chand\\anaconda3\\lib\\site-packages (from kagglehub) (24.2)\n",
      "Requirement already satisfied: pyyaml in c:\\users\\chand\\anaconda3\\lib\\site-packages (from kagglehub) (6.0.2)\n",
      "Requirement already satisfied: requests in c:\\users\\chand\\anaconda3\\lib\\site-packages (from kagglehub) (2.32.3)\n",
      "Requirement already satisfied: tqdm in c:\\users\\chand\\anaconda3\\lib\\site-packages (from kagglehub) (4.67.1)\n",
      "Requirement already satisfied: charset-normalizer<4,>=2 in c:\\users\\chand\\anaconda3\\lib\\site-packages (from requests->kagglehub) (3.3.2)\n",
      "Requirement already satisfied: idna<4,>=2.5 in c:\\users\\chand\\anaconda3\\lib\\site-packages (from requests->kagglehub) (3.7)\n",
      "Requirement already satisfied: urllib3<3,>=1.21.1 in c:\\users\\chand\\anaconda3\\lib\\site-packages (from requests->kagglehub) (2.3.0)\n",
      "Requirement already satisfied: certifi>=2017.4.17 in c:\\users\\chand\\anaconda3\\lib\\site-packages (from requests->kagglehub) (2025.6.15)\n",
      "Requirement already satisfied: colorama in c:\\users\\chand\\anaconda3\\lib\\site-packages (from tqdm->kagglehub) (0.4.6)\n"
     ]
    }
   ],
   "source": [
    "# Install kaggle package if not already installed\n",
    "!pip install kagglehub"
   ]
  },
  {
   "cell_type": "code",
   "execution_count": 2,
   "id": "98e5787b-df55-4a63-b72e-d63f57625c33",
   "metadata": {},
   "outputs": [
    {
     "name": "stdout",
     "output_type": "stream",
     "text": [
      "Path to dataset files: C:\\Users\\chand\\.cache\\kagglehub\\datasets\\abdoomoh\\daily-covid-19-data-2020-2024\\versions\\2\n"
     ]
    }
   ],
   "source": [
    "import kagglehub\n",
    "\n",
    "path = kagglehub.dataset_download(\"abdoomoh/daily-covid-19-data-2020-2024\")\n",
    "\n",
    "print(\"Path to dataset files:\", path)"
   ]
  },
  {
   "cell_type": "code",
   "execution_count": 8,
   "id": "6bcd667e-1f10-43e3-8590-c1fa8efd25b3",
   "metadata": {},
   "outputs": [],
   "source": [
    "# Set the dataset path\n",
    "dataset_path = r\"C:\\Users\\chand\\.cache\\kagglehub\\datasets\\abdoomoh\\daily-covid-19-data-2020-2024\\versions\\2\"\n",
    "\n"
   ]
  },
  {
   "cell_type": "markdown",
   "id": "a1baa736-427d-49f4-a311-ac5bcb25cfa5",
   "metadata": {},
   "source": [
    "Step 2: Load Dataset & Initial Exploration"
   ]
  },
  {
   "cell_type": "code",
   "execution_count": 15,
   "id": "089da61b-0fe6-42fe-93fe-44d8fc6b22ff",
   "metadata": {},
   "outputs": [
    {
     "name": "stdout",
     "output_type": "stream",
     "text": [
      "  Date_reported Country_code      Country WHO_region  New_cases  \\\n",
      "0    05/01/2020           AF  Afghanistan       EMRO        NaN   \n",
      "1    12/01/2020           AF  Afghanistan       EMRO        NaN   \n",
      "2    19/01/2020           AF  Afghanistan       EMRO        NaN   \n",
      "3    26/01/2020           AF  Afghanistan       EMRO        NaN   \n",
      "4    02/02/2020           AF  Afghanistan       EMRO        NaN   \n",
      "\n",
      "   Cumulative_cases  New_deaths  Cumulative_deaths  \n",
      "0                 0         NaN                  0  \n",
      "1                 0         NaN                  0  \n",
      "2                 0         NaN                  0  \n",
      "3                 0         NaN                  0  \n",
      "4                 0         NaN                  0  \n"
     ]
    }
   ],
   "source": [
    "import pandas as pd\n",
    "import os\n",
    "\n",
    "# set the base dataset path\n",
    "base_path = r\"C:\\Users\\chand\\.cache\\kagglehub\\datasets\\abdoomoh\\daily-covid-19-data-2020-2024\\versions\"\n",
    "version_folder = os.listdir(base_path)[0] # use the first available version\n",
    "full_folder_path = os.path.join(base_path, version_folder)\n",
    "\n",
    "# combine path to the file\n",
    "file_path = os.path.join(full_folder_path, \"WHO-COVID-19-global-data.csv\")\n",
    "\n",
    "# now read the file\n",
    "df = pd.read_csv(file_path, delimiter=';', on_bad_lines='skip')\n",
    "print(df.head())"
   ]
  },
  {
   "cell_type": "code",
   "execution_count": 16,
   "id": "84136f8b-9001-4adc-8683-e5ddd77c680d",
   "metadata": {},
   "outputs": [
    {
     "data": {
      "text/plain": [
       "Date_reported         object\n",
       "Country_code          object\n",
       "Country               object\n",
       "WHO_region            object\n",
       "New_cases            float64\n",
       "Cumulative_cases       int64\n",
       "New_deaths           float64\n",
       "Cumulative_deaths      int64\n",
       "dtype: object"
      ]
     },
     "execution_count": 16,
     "metadata": {},
     "output_type": "execute_result"
    }
   ],
   "source": [
    "# check column data types\n",
    "df.dtypes"
   ]
  },
  {
   "cell_type": "markdown",
   "id": "50a0c81e-1627-415a-8a09-37bb66ffdf13",
   "metadata": {},
   "source": [
    "Step 3: Data cleansing "
   ]
  },
  {
   "cell_type": "code",
   "execution_count": 17,
   "id": "106abc08-f256-4cf3-a8df-09435c8c3cfb",
   "metadata": {},
   "outputs": [
    {
     "name": "stdout",
     "output_type": "stream",
     "text": [
      "Rows with invalid dates: 34800\n",
      "Final check: 0\n"
     ]
    }
   ],
   "source": [
    "# Convert date safely\n",
    "df['Date_reported'] = pd.to_datetime(df['Date_reported'], errors='coerce')\n",
    "\n",
    "# Check if any rows failed to convert\n",
    "print(\"Rows with invalid dates:\", df['Date_reported'].isnull().sum())\n",
    "\n",
    "# Optional: Drop rows where date is NaT\n",
    "df = df.dropna(subset=['Date_reported'])\n",
    "\n",
    "# Confirm all dates are valid\n",
    "print(\"Final check:\", df['Date_reported'].isnull().sum())\n"
   ]
  },
  {
   "cell_type": "code",
   "execution_count": 18,
   "id": "5e1ee539-ef36-40b1-94f0-fd21b3934c3b",
   "metadata": {},
   "outputs": [
    {
     "name": "stdout",
     "output_type": "stream",
     "text": [
      "Empty DataFrame\n",
      "Columns: [Date_reported, Country_code, Country, WHO_region, New_cases, Cumulative_cases, New_deaths, Cumulative_deaths]\n",
      "Index: []\n"
     ]
    }
   ],
   "source": [
    "# Display rows where date conversion failed\n",
    "bad_dates = df[df['Date_reported'].isnull()]\n",
    "print(bad_dates)\n"
   ]
  },
  {
   "cell_type": "code",
   "execution_count": 19,
   "id": "297b526f-c227-401d-a436-04d28c2e385b",
   "metadata": {},
   "outputs": [
    {
     "name": "stdout",
     "output_type": "stream",
     "text": [
      "<class 'pandas.core.frame.DataFrame'>\n",
      "Index: 23040 entries, 0 to 57839\n",
      "Data columns (total 8 columns):\n",
      " #   Column             Non-Null Count  Dtype         \n",
      "---  ------             --------------  -----         \n",
      " 0   Date_reported      23040 non-null  datetime64[ns]\n",
      " 1   Country_code       22944 non-null  object        \n",
      " 2   Country            23040 non-null  object        \n",
      " 3   WHO_region         21312 non-null  object        \n",
      " 4   New_cases          15230 non-null  float64       \n",
      " 5   Cumulative_cases   23040 non-null  int64         \n",
      " 6   New_deaths         9744 non-null   float64       \n",
      " 7   Cumulative_deaths  23040 non-null  int64         \n",
      "dtypes: datetime64[ns](1), float64(2), int64(2), object(3)\n",
      "memory usage: 1.6+ MB\n"
     ]
    }
   ],
   "source": [
    "df.info()"
   ]
  },
  {
   "cell_type": "code",
   "execution_count": 20,
   "id": "420f0883-87be-4d4e-8d72-76a7b012315f",
   "metadata": {},
   "outputs": [
    {
     "data": {
      "text/plain": [
       "Date_reported            0\n",
       "Country_code            96\n",
       "Country                  0\n",
       "WHO_region            1728\n",
       "New_cases             7810\n",
       "Cumulative_cases         0\n",
       "New_deaths           13296\n",
       "Cumulative_deaths        0\n",
       "dtype: int64"
      ]
     },
     "execution_count": 20,
     "metadata": {},
     "output_type": "execute_result"
    }
   ],
   "source": [
    "# check for missing or null values\n",
    "df.isnull().sum()"
   ]
  },
  {
   "cell_type": "code",
   "execution_count": 21,
   "id": "a13181ab-488a-4272-ae62-13aaaba994b6",
   "metadata": {},
   "outputs": [],
   "source": [
    "# fill the missing values with 0\n",
    "df['Country_code'] = df['Country_code'].fillna(0)\n",
    "df['WHO_region'] = df['WHO_region'].fillna(df['WHO_region'].mode()[0])\n",
    "df['New_cases'] = df['New_cases'].fillna(0)\n",
    "df['New_deaths'] = df['New_deaths'].fillna(0)"
   ]
  },
  {
   "cell_type": "code",
   "execution_count": 22,
   "id": "c51ae9d2-e99f-4b92-acf9-9eae9739bbae",
   "metadata": {},
   "outputs": [
    {
     "data": {
      "text/plain": [
       "Date_reported        0\n",
       "Country_code         0\n",
       "Country              0\n",
       "WHO_region           0\n",
       "New_cases            0\n",
       "Cumulative_cases     0\n",
       "New_deaths           0\n",
       "Cumulative_deaths    0\n",
       "dtype: int64"
      ]
     },
     "execution_count": 22,
     "metadata": {},
     "output_type": "execute_result"
    }
   ],
   "source": [
    "# recheck\n",
    "df.isnull().sum()"
   ]
  },
  {
   "cell_type": "code",
   "execution_count": 23,
   "id": "9e24d1c1-f740-452c-8899-050a8efad854",
   "metadata": {},
   "outputs": [
    {
     "name": "stdout",
     "output_type": "stream",
     "text": [
      "<class 'pandas.core.frame.DataFrame'>\n",
      "Index: 23040 entries, 0 to 57839\n",
      "Data columns (total 8 columns):\n",
      " #   Column             Non-Null Count  Dtype         \n",
      "---  ------             --------------  -----         \n",
      " 0   Date_reported      23040 non-null  datetime64[ns]\n",
      " 1   Country_code       23040 non-null  object        \n",
      " 2   Country            23040 non-null  object        \n",
      " 3   WHO_region         23040 non-null  object        \n",
      " 4   New_cases          23040 non-null  float64       \n",
      " 5   Cumulative_cases   23040 non-null  int64         \n",
      " 6   New_deaths         23040 non-null  float64       \n",
      " 7   Cumulative_deaths  23040 non-null  int64         \n",
      "dtypes: datetime64[ns](1), float64(2), int64(2), object(3)\n",
      "memory usage: 1.6+ MB\n"
     ]
    }
   ],
   "source": [
    "df.info()"
   ]
  },
  {
   "cell_type": "code",
   "execution_count": 24,
   "id": "32bfa9e8-54fc-42b5-87e3-5185587a6254",
   "metadata": {},
   "outputs": [
    {
     "data": {
      "text/plain": [
       "np.int64(0)"
      ]
     },
     "execution_count": 24,
     "metadata": {},
     "output_type": "execute_result"
    }
   ],
   "source": [
    "# check for duplicate values\n",
    "df.duplicated().sum()"
   ]
  },
  {
   "cell_type": "code",
   "execution_count": 25,
   "id": "59b70bc4-9414-43f5-9123-f5d972d47f49",
   "metadata": {},
   "outputs": [
    {
     "data": {
      "text/html": [
       "<div>\n",
       "<style scoped>\n",
       "    .dataframe tbody tr th:only-of-type {\n",
       "        vertical-align: middle;\n",
       "    }\n",
       "\n",
       "    .dataframe tbody tr th {\n",
       "        vertical-align: top;\n",
       "    }\n",
       "\n",
       "    .dataframe thead th {\n",
       "        text-align: right;\n",
       "    }\n",
       "</style>\n",
       "<table border=\"1\" class=\"dataframe\">\n",
       "  <thead>\n",
       "    <tr style=\"text-align: right;\">\n",
       "      <th></th>\n",
       "      <th>Date_reported</th>\n",
       "      <th>Country_code</th>\n",
       "      <th>Country</th>\n",
       "      <th>WHO_region</th>\n",
       "      <th>New_cases</th>\n",
       "      <th>Cumulative_cases</th>\n",
       "      <th>New_deaths</th>\n",
       "      <th>Cumulative_deaths</th>\n",
       "    </tr>\n",
       "  </thead>\n",
       "  <tbody>\n",
       "    <tr>\n",
       "      <th>4938</th>\n",
       "      <td>2022-10-04</td>\n",
       "      <td>BZ</td>\n",
       "      <td>Belize</td>\n",
       "      <td>AMRO</td>\n",
       "      <td>-2.0</td>\n",
       "      <td>57287</td>\n",
       "      <td>8.0</td>\n",
       "      <td>664</td>\n",
       "    </tr>\n",
       "    <tr>\n",
       "      <th>20739</th>\n",
       "      <td>2020-05-04</td>\n",
       "      <td>GT</td>\n",
       "      <td>Guatemala</td>\n",
       "      <td>AMRO</td>\n",
       "      <td>-27.0</td>\n",
       "      <td>50</td>\n",
       "      <td>0.0</td>\n",
       "      <td>1</td>\n",
       "    </tr>\n",
       "    <tr>\n",
       "      <th>31478</th>\n",
       "      <td>2022-06-11</td>\n",
       "      <td>MW</td>\n",
       "      <td>Malawi</td>\n",
       "      <td>AFRO</td>\n",
       "      <td>-88.0</td>\n",
       "      <td>88009</td>\n",
       "      <td>2.0</td>\n",
       "      <td>2685</td>\n",
       "    </tr>\n",
       "    <tr>\n",
       "      <th>33179</th>\n",
       "      <td>2023-12-02</td>\n",
       "      <td>MR</td>\n",
       "      <td>Mauritania</td>\n",
       "      <td>AFRO</td>\n",
       "      <td>-124.0</td>\n",
       "      <td>63438</td>\n",
       "      <td>0.0</td>\n",
       "      <td>997</td>\n",
       "    </tr>\n",
       "    <tr>\n",
       "      <th>34211</th>\n",
       "      <td>2024-02-06</td>\n",
       "      <td>FM</td>\n",
       "      <td>Micronesia (Federated States of)</td>\n",
       "      <td>WPRO</td>\n",
       "      <td>-87.0</td>\n",
       "      <td>26460</td>\n",
       "      <td>0.0</td>\n",
       "      <td>65</td>\n",
       "    </tr>\n",
       "    <tr>\n",
       "      <th>39944</th>\n",
       "      <td>2023-11-06</td>\n",
       "      <td>PW</td>\n",
       "      <td>Palau</td>\n",
       "      <td>WPRO</td>\n",
       "      <td>-2.0</td>\n",
       "      <td>6009</td>\n",
       "      <td>0.0</td>\n",
       "      <td>9</td>\n",
       "    </tr>\n",
       "    <tr>\n",
       "      <th>45727</th>\n",
       "      <td>2023-04-06</td>\n",
       "      <td>WS</td>\n",
       "      <td>Samoa</td>\n",
       "      <td>WPRO</td>\n",
       "      <td>-20.0</td>\n",
       "      <td>16743</td>\n",
       "      <td>0.0</td>\n",
       "      <td>31</td>\n",
       "    </tr>\n",
       "    <tr>\n",
       "      <th>47740</th>\n",
       "      <td>2020-07-06</td>\n",
       "      <td>SX</td>\n",
       "      <td>Sint Maarten (Dutch part)</td>\n",
       "      <td>AMRO</td>\n",
       "      <td>-1.0</td>\n",
       "      <td>77</td>\n",
       "      <td>0.0</td>\n",
       "      <td>15</td>\n",
       "    </tr>\n",
       "    <tr>\n",
       "      <th>55470</th>\n",
       "      <td>2020-11-10</td>\n",
       "      <td>VI</td>\n",
       "      <td>United States Virgin Islands</td>\n",
       "      <td>AMRO</td>\n",
       "      <td>-2.0</td>\n",
       "      <td>1324</td>\n",
       "      <td>0.0</td>\n",
       "      <td>20</td>\n",
       "    </tr>\n",
       "  </tbody>\n",
       "</table>\n",
       "</div>"
      ],
      "text/plain": [
       "      Date_reported Country_code                           Country WHO_region  \\\n",
       "4938     2022-10-04           BZ                            Belize       AMRO   \n",
       "20739    2020-05-04           GT                         Guatemala       AMRO   \n",
       "31478    2022-06-11           MW                            Malawi       AFRO   \n",
       "33179    2023-12-02           MR                        Mauritania       AFRO   \n",
       "34211    2024-02-06           FM  Micronesia (Federated States of)       WPRO   \n",
       "39944    2023-11-06           PW                             Palau       WPRO   \n",
       "45727    2023-04-06           WS                             Samoa       WPRO   \n",
       "47740    2020-07-06           SX         Sint Maarten (Dutch part)       AMRO   \n",
       "55470    2020-11-10           VI      United States Virgin Islands       AMRO   \n",
       "\n",
       "       New_cases  Cumulative_cases  New_deaths  Cumulative_deaths  \n",
       "4938        -2.0             57287         8.0                664  \n",
       "20739      -27.0                50         0.0                  1  \n",
       "31478      -88.0             88009         2.0               2685  \n",
       "33179     -124.0             63438         0.0                997  \n",
       "34211      -87.0             26460         0.0                 65  \n",
       "39944       -2.0              6009         0.0                  9  \n",
       "45727      -20.0             16743         0.0                 31  \n",
       "47740       -1.0                77         0.0                 15  \n",
       "55470       -2.0              1324         0.0                 20  "
      ]
     },
     "execution_count": 25,
     "metadata": {},
     "output_type": "execute_result"
    }
   ],
   "source": [
    "df[df['New_cases']<0]"
   ]
  },
  {
   "cell_type": "code",
   "execution_count": 26,
   "id": "3e888cfe-5a0a-4d46-87eb-2f406ec413d5",
   "metadata": {},
   "outputs": [
    {
     "data": {
      "text/html": [
       "<div>\n",
       "<style scoped>\n",
       "    .dataframe tbody tr th:only-of-type {\n",
       "        vertical-align: middle;\n",
       "    }\n",
       "\n",
       "    .dataframe tbody tr th {\n",
       "        vertical-align: top;\n",
       "    }\n",
       "\n",
       "    .dataframe thead th {\n",
       "        text-align: right;\n",
       "    }\n",
       "</style>\n",
       "<table border=\"1\" class=\"dataframe\">\n",
       "  <thead>\n",
       "    <tr style=\"text-align: right;\">\n",
       "      <th></th>\n",
       "      <th>Date_reported</th>\n",
       "      <th>Country_code</th>\n",
       "      <th>Country</th>\n",
       "      <th>WHO_region</th>\n",
       "      <th>New_cases</th>\n",
       "      <th>Cumulative_cases</th>\n",
       "      <th>New_deaths</th>\n",
       "      <th>Cumulative_deaths</th>\n",
       "    </tr>\n",
       "  </thead>\n",
       "  <tbody>\n",
       "    <tr>\n",
       "      <th>10050</th>\n",
       "      <td>2023-02-04</td>\n",
       "      <td>CL</td>\n",
       "      <td>Chile</td>\n",
       "      <td>AMRO</td>\n",
       "      <td>14253.0</td>\n",
       "      <td>5264330</td>\n",
       "      <td>-3432.0</td>\n",
       "      <td>61050</td>\n",
       "    </tr>\n",
       "    <tr>\n",
       "      <th>20287</th>\n",
       "      <td>2020-01-11</td>\n",
       "      <td>GP</td>\n",
       "      <td>Guadeloupe</td>\n",
       "      <td>EURO</td>\n",
       "      <td>268.0</td>\n",
       "      <td>7742</td>\n",
       "      <td>-1.0</td>\n",
       "      <td>126</td>\n",
       "    </tr>\n",
       "    <tr>\n",
       "      <th>23591</th>\n",
       "      <td>2024-11-02</td>\n",
       "      <td>ID</td>\n",
       "      <td>Indonesia</td>\n",
       "      <td>SEARO</td>\n",
       "      <td>58.0</td>\n",
       "      <td>6828326</td>\n",
       "      <td>-4.0</td>\n",
       "      <td>162050</td>\n",
       "    </tr>\n",
       "    <tr>\n",
       "      <th>40180</th>\n",
       "      <td>2023-07-05</td>\n",
       "      <td>PA</td>\n",
       "      <td>Panama</td>\n",
       "      <td>AMRO</td>\n",
       "      <td>591.0</td>\n",
       "      <td>1037324</td>\n",
       "      <td>-1.0</td>\n",
       "      <td>8620</td>\n",
       "    </tr>\n",
       "    <tr>\n",
       "      <th>47363</th>\n",
       "      <td>2022-12-06</td>\n",
       "      <td>SL</td>\n",
       "      <td>Sierra Leone</td>\n",
       "      <td>AFRO</td>\n",
       "      <td>0.0</td>\n",
       "      <td>7682</td>\n",
       "      <td>-1.0</td>\n",
       "      <td>125</td>\n",
       "    </tr>\n",
       "  </tbody>\n",
       "</table>\n",
       "</div>"
      ],
      "text/plain": [
       "      Date_reported Country_code       Country WHO_region  New_cases  \\\n",
       "10050    2023-02-04           CL         Chile       AMRO    14253.0   \n",
       "20287    2020-01-11           GP    Guadeloupe       EURO      268.0   \n",
       "23591    2024-11-02           ID     Indonesia      SEARO       58.0   \n",
       "40180    2023-07-05           PA        Panama       AMRO      591.0   \n",
       "47363    2022-12-06           SL  Sierra Leone       AFRO        0.0   \n",
       "\n",
       "       Cumulative_cases  New_deaths  Cumulative_deaths  \n",
       "10050           5264330     -3432.0              61050  \n",
       "20287              7742        -1.0                126  \n",
       "23591           6828326        -4.0             162050  \n",
       "40180           1037324        -1.0               8620  \n",
       "47363              7682        -1.0                125  "
      ]
     },
     "execution_count": 26,
     "metadata": {},
     "output_type": "execute_result"
    }
   ],
   "source": [
    "df[df['New_deaths']<0]"
   ]
  },
  {
   "cell_type": "code",
   "execution_count": 27,
   "id": "d8a9e431-e784-4189-9ab0-536bca1a90a8",
   "metadata": {},
   "outputs": [],
   "source": [
    "# replaces negative values with 0\n",
    "df['New_cases'] = df['New_cases'].apply(lambda x: 0 if x < 0 else x)\n",
    "df['New_deaths'] = df['New_deaths'].apply(lambda x: 0 if x < 0 else x)"
   ]
  },
  {
   "cell_type": "code",
   "execution_count": 30,
   "id": "e245a6ad-0304-4cce-bd2a-f378cf4f9f41",
   "metadata": {},
   "outputs": [
    {
     "data": {
      "text/html": [
       "<div>\n",
       "<style scoped>\n",
       "    .dataframe tbody tr th:only-of-type {\n",
       "        vertical-align: middle;\n",
       "    }\n",
       "\n",
       "    .dataframe tbody tr th {\n",
       "        vertical-align: top;\n",
       "    }\n",
       "\n",
       "    .dataframe thead th {\n",
       "        text-align: right;\n",
       "    }\n",
       "</style>\n",
       "<table border=\"1\" class=\"dataframe\">\n",
       "  <thead>\n",
       "    <tr style=\"text-align: right;\">\n",
       "      <th></th>\n",
       "      <th>Date_reported</th>\n",
       "      <th>Country_code</th>\n",
       "      <th>Country</th>\n",
       "      <th>WHO_region</th>\n",
       "      <th>New_cases</th>\n",
       "      <th>Cumulative_cases</th>\n",
       "      <th>New_deaths</th>\n",
       "      <th>Cumulative_deaths</th>\n",
       "    </tr>\n",
       "  </thead>\n",
       "  <tbody>\n",
       "  </tbody>\n",
       "</table>\n",
       "</div>"
      ],
      "text/plain": [
       "Empty DataFrame\n",
       "Columns: [Date_reported, Country_code, Country, WHO_region, New_cases, Cumulative_cases, New_deaths, Cumulative_deaths]\n",
       "Index: []"
      ]
     },
     "execution_count": 30,
     "metadata": {},
     "output_type": "execute_result"
    }
   ],
   "source": [
    "# recheck\n",
    "df[df['New_cases']<0]\n",
    "df[df['New_deaths']<0]"
   ]
  },
  {
   "cell_type": "code",
   "execution_count": 31,
   "id": "683f4b9f-618e-406f-b1c2-78a3cfd024d8",
   "metadata": {},
   "outputs": [],
   "source": [
    "# extract year from date_reported for analysis\n",
    "df['Year'] = df['Date_reported'].dt.year"
   ]
  },
  {
   "cell_type": "code",
   "execution_count": 32,
   "id": "a1df803e-2dbf-48a1-8d35-9ec9a130af10",
   "metadata": {},
   "outputs": [],
   "source": [
    "# Get list of all column names\n",
    "cols = df.columns.tolist()\n",
    "\n",
    "# Find index of 'Date_reported'\n",
    "date_index = cols.index('Date_reported')\n",
    "\n",
    "# Remove 'Year' if it already exists in the list\n",
    "cols.remove('Year')\n",
    "\n",
    "# Insert 'Year' right after 'Date_reported'\n",
    "cols.insert(date_index + 1, 'Year')\n",
    "\n",
    "# Reorder the DataFrame\n",
    "df = df[cols]"
   ]
  },
  {
   "cell_type": "code",
   "execution_count": 33,
   "id": "e22b2fc7-9310-4761-8c72-c627b9a8c558",
   "metadata": {},
   "outputs": [
    {
     "data": {
      "text/html": [
       "<div>\n",
       "<style scoped>\n",
       "    .dataframe tbody tr th:only-of-type {\n",
       "        vertical-align: middle;\n",
       "    }\n",
       "\n",
       "    .dataframe tbody tr th {\n",
       "        vertical-align: top;\n",
       "    }\n",
       "\n",
       "    .dataframe thead th {\n",
       "        text-align: right;\n",
       "    }\n",
       "</style>\n",
       "<table border=\"1\" class=\"dataframe\">\n",
       "  <thead>\n",
       "    <tr style=\"text-align: right;\">\n",
       "      <th></th>\n",
       "      <th>Date_reported</th>\n",
       "      <th>Year</th>\n",
       "      <th>Country_code</th>\n",
       "      <th>Country</th>\n",
       "      <th>WHO_region</th>\n",
       "      <th>New_cases</th>\n",
       "      <th>Cumulative_cases</th>\n",
       "      <th>New_deaths</th>\n",
       "      <th>Cumulative_deaths</th>\n",
       "    </tr>\n",
       "  </thead>\n",
       "  <tbody>\n",
       "    <tr>\n",
       "      <th>0</th>\n",
       "      <td>2020-05-01</td>\n",
       "      <td>2020</td>\n",
       "      <td>AF</td>\n",
       "      <td>Afghanistan</td>\n",
       "      <td>EMRO</td>\n",
       "      <td>0.0</td>\n",
       "      <td>0</td>\n",
       "      <td>0.0</td>\n",
       "      <td>0</td>\n",
       "    </tr>\n",
       "    <tr>\n",
       "      <th>1</th>\n",
       "      <td>2020-12-01</td>\n",
       "      <td>2020</td>\n",
       "      <td>AF</td>\n",
       "      <td>Afghanistan</td>\n",
       "      <td>EMRO</td>\n",
       "      <td>0.0</td>\n",
       "      <td>0</td>\n",
       "      <td>0.0</td>\n",
       "      <td>0</td>\n",
       "    </tr>\n",
       "    <tr>\n",
       "      <th>4</th>\n",
       "      <td>2020-02-02</td>\n",
       "      <td>2020</td>\n",
       "      <td>AF</td>\n",
       "      <td>Afghanistan</td>\n",
       "      <td>EMRO</td>\n",
       "      <td>0.0</td>\n",
       "      <td>0</td>\n",
       "      <td>0.0</td>\n",
       "      <td>0</td>\n",
       "    </tr>\n",
       "    <tr>\n",
       "      <th>5</th>\n",
       "      <td>2020-09-02</td>\n",
       "      <td>2020</td>\n",
       "      <td>AF</td>\n",
       "      <td>Afghanistan</td>\n",
       "      <td>EMRO</td>\n",
       "      <td>0.0</td>\n",
       "      <td>0</td>\n",
       "      <td>0.0</td>\n",
       "      <td>0</td>\n",
       "    </tr>\n",
       "    <tr>\n",
       "      <th>8</th>\n",
       "      <td>2020-01-03</td>\n",
       "      <td>2020</td>\n",
       "      <td>AF</td>\n",
       "      <td>Afghanistan</td>\n",
       "      <td>EMRO</td>\n",
       "      <td>1.0</td>\n",
       "      <td>1</td>\n",
       "      <td>0.0</td>\n",
       "      <td>0</td>\n",
       "    </tr>\n",
       "  </tbody>\n",
       "</table>\n",
       "</div>"
      ],
      "text/plain": [
       "  Date_reported  Year Country_code      Country WHO_region  New_cases  \\\n",
       "0    2020-05-01  2020           AF  Afghanistan       EMRO        0.0   \n",
       "1    2020-12-01  2020           AF  Afghanistan       EMRO        0.0   \n",
       "4    2020-02-02  2020           AF  Afghanistan       EMRO        0.0   \n",
       "5    2020-09-02  2020           AF  Afghanistan       EMRO        0.0   \n",
       "8    2020-01-03  2020           AF  Afghanistan       EMRO        1.0   \n",
       "\n",
       "   Cumulative_cases  New_deaths  Cumulative_deaths  \n",
       "0                 0         0.0                  0  \n",
       "1                 0         0.0                  0  \n",
       "4                 0         0.0                  0  \n",
       "5                 0         0.0                  0  \n",
       "8                 1         0.0                  0  "
      ]
     },
     "execution_count": 33,
     "metadata": {},
     "output_type": "execute_result"
    }
   ],
   "source": [
    "# recheck everything\n",
    "df.head()"
   ]
  },
  {
   "cell_type": "markdown",
   "id": "9b5a9551-3840-4e07-b75d-caf794418e7a",
   "metadata": {},
   "source": [
    "# EDA (Exploratory Data Analysis)"
   ]
  },
  {
   "cell_type": "code",
   "execution_count": 34,
   "id": "b03f38e3-1567-4225-aff4-365dad2bcf7a",
   "metadata": {},
   "outputs": [
    {
     "data": {
      "text/html": [
       "<div>\n",
       "<style scoped>\n",
       "    .dataframe tbody tr th:only-of-type {\n",
       "        vertical-align: middle;\n",
       "    }\n",
       "\n",
       "    .dataframe tbody tr th {\n",
       "        vertical-align: top;\n",
       "    }\n",
       "\n",
       "    .dataframe thead th {\n",
       "        text-align: right;\n",
       "    }\n",
       "</style>\n",
       "<table border=\"1\" class=\"dataframe\">\n",
       "  <thead>\n",
       "    <tr style=\"text-align: right;\">\n",
       "      <th></th>\n",
       "      <th>Date_reported</th>\n",
       "      <th>Year</th>\n",
       "      <th>New_cases</th>\n",
       "      <th>Cumulative_cases</th>\n",
       "      <th>New_deaths</th>\n",
       "      <th>Cumulative_deaths</th>\n",
       "    </tr>\n",
       "  </thead>\n",
       "  <tbody>\n",
       "    <tr>\n",
       "      <th>count</th>\n",
       "      <td>23040</td>\n",
       "      <td>23040.000000</td>\n",
       "      <td>2.304000e+04</td>\n",
       "      <td>2.304000e+04</td>\n",
       "      <td>23040.000000</td>\n",
       "      <td>2.304000e+04</td>\n",
       "    </tr>\n",
       "    <tr>\n",
       "      <th>mean</th>\n",
       "      <td>2022-05-04 22:30:00.000000256</td>\n",
       "      <td>2021.854167</td>\n",
       "      <td>1.248205e+04</td>\n",
       "      <td>1.796626e+06</td>\n",
       "      <td>116.663889</td>\n",
       "      <td>1.990933e+04</td>\n",
       "    </tr>\n",
       "    <tr>\n",
       "      <th>min</th>\n",
       "      <td>2020-01-03 00:00:00</td>\n",
       "      <td>2020.000000</td>\n",
       "      <td>0.000000e+00</td>\n",
       "      <td>0.000000e+00</td>\n",
       "      <td>0.000000</td>\n",
       "      <td>0.000000e+00</td>\n",
       "    </tr>\n",
       "    <tr>\n",
       "      <th>25%</th>\n",
       "      <td>2021-03-07 18:00:00</td>\n",
       "      <td>2021.000000</td>\n",
       "      <td>0.000000e+00</td>\n",
       "      <td>3.550000e+03</td>\n",
       "      <td>0.000000</td>\n",
       "      <td>2.100000e+01</td>\n",
       "    </tr>\n",
       "    <tr>\n",
       "      <th>50%</th>\n",
       "      <td>2022-04-24 00:00:00</td>\n",
       "      <td>2022.000000</td>\n",
       "      <td>3.900000e+01</td>\n",
       "      <td>4.411400e+04</td>\n",
       "      <td>0.000000</td>\n",
       "      <td>4.680000e+02</td>\n",
       "    </tr>\n",
       "    <tr>\n",
       "      <th>75%</th>\n",
       "      <td>2023-06-14 18:00:00</td>\n",
       "      <td>2023.000000</td>\n",
       "      <td>1.089000e+03</td>\n",
       "      <td>5.160230e+05</td>\n",
       "      <td>10.000000</td>\n",
       "      <td>6.881000e+03</td>\n",
       "    </tr>\n",
       "    <tr>\n",
       "      <th>max</th>\n",
       "      <td>2024-12-05 00:00:00</td>\n",
       "      <td>2024.000000</td>\n",
       "      <td>2.464488e+07</td>\n",
       "      <td>1.034368e+08</td>\n",
       "      <td>47687.000000</td>\n",
       "      <td>1.194158e+06</td>\n",
       "    </tr>\n",
       "    <tr>\n",
       "      <th>std</th>\n",
       "      <td>NaN</td>\n",
       "      <td>1.353875</td>\n",
       "      <td>1.883607e+05</td>\n",
       "      <td>7.832438e+06</td>\n",
       "      <td>819.278309</td>\n",
       "      <td>8.188153e+04</td>\n",
       "    </tr>\n",
       "  </tbody>\n",
       "</table>\n",
       "</div>"
      ],
      "text/plain": [
       "                       Date_reported          Year     New_cases  \\\n",
       "count                          23040  23040.000000  2.304000e+04   \n",
       "mean   2022-05-04 22:30:00.000000256   2021.854167  1.248205e+04   \n",
       "min              2020-01-03 00:00:00   2020.000000  0.000000e+00   \n",
       "25%              2021-03-07 18:00:00   2021.000000  0.000000e+00   \n",
       "50%              2022-04-24 00:00:00   2022.000000  3.900000e+01   \n",
       "75%              2023-06-14 18:00:00   2023.000000  1.089000e+03   \n",
       "max              2024-12-05 00:00:00   2024.000000  2.464488e+07   \n",
       "std                              NaN      1.353875  1.883607e+05   \n",
       "\n",
       "       Cumulative_cases    New_deaths  Cumulative_deaths  \n",
       "count      2.304000e+04  23040.000000       2.304000e+04  \n",
       "mean       1.796626e+06    116.663889       1.990933e+04  \n",
       "min        0.000000e+00      0.000000       0.000000e+00  \n",
       "25%        3.550000e+03      0.000000       2.100000e+01  \n",
       "50%        4.411400e+04      0.000000       4.680000e+02  \n",
       "75%        5.160230e+05     10.000000       6.881000e+03  \n",
       "max        1.034368e+08  47687.000000       1.194158e+06  \n",
       "std        7.832438e+06    819.278309       8.188153e+04  "
      ]
     },
     "execution_count": 34,
     "metadata": {},
     "output_type": "execute_result"
    }
   ],
   "source": [
    "# Get high-level summary statistics for numeric columns\n",
    "df.describe()"
   ]
  },
  {
   "cell_type": "markdown",
   "id": "cff7bcf3-b23a-40e3-9ed3-677b787891d0",
   "metadata": {},
   "source": [
    "Most Affected Countries"
   ]
  },
  {
   "cell_type": "code",
   "execution_count": 35,
   "id": "7d967886-00b4-4512-9ff2-b8697bcbfffa",
   "metadata": {},
   "outputs": [
    {
     "data": {
      "text/plain": [
       "Country\n",
       "United States of America                                103436829\n",
       "China                                                    99375079\n",
       "India                                                    45042054\n",
       "France                                                   38997490\n",
       "Germany                                                  38437756\n",
       "Brazil                                                   37511921\n",
       "Republic of Korea                                        34571873\n",
       "Japan                                                    33803572\n",
       "Italy                                                    26781078\n",
       "United Kingdom of Great Britain and Northern Ireland     24976777\n",
       "Name: Cumulative_cases, dtype: int64"
      ]
     },
     "execution_count": 35,
     "metadata": {},
     "output_type": "execute_result"
    }
   ],
   "source": [
    "# Top 10 countries with highest total (cumulative) cases\n",
    "top_countries = df.groupby('Country')['Cumulative_cases'].max().sort_values(ascending=False).head(10)\n",
    "top_countries"
   ]
  },
  {
   "cell_type": "markdown",
   "id": "399d0e2e-5c41-4546-a0cf-9956d6f4b652",
   "metadata": {},
   "source": [
    "Cases by Year"
   ]
  },
  {
   "cell_type": "code",
   "execution_count": 36,
   "id": "3ede66de-7d69-4141-aa83-5febf51dfb26",
   "metadata": {},
   "outputs": [
    {
     "data": {
      "text/plain": [
       "Year\n",
       "2020     27530604.0\n",
       "2021     78733874.0\n",
       "2022    131629920.0\n",
       "2023     48854857.0\n",
       "2024       837180.0\n",
       "Name: New_cases, dtype: float64"
      ]
     },
     "execution_count": 36,
     "metadata": {},
     "output_type": "execute_result"
    }
   ],
   "source": [
    "# Total new cases reported per year\n",
    "cases_by_year = df.groupby('Year')['New_cases'].sum()\n",
    "cases_by_year"
   ]
  },
  {
   "cell_type": "markdown",
   "id": "04099db7-9d86-4925-b5f6-73a7105cce9f",
   "metadata": {},
   "source": [
    "Deaths by WHO Region"
   ]
  },
  {
   "cell_type": "code",
   "execution_count": 37,
   "id": "e54b892c-a024-4ef7-8836-85074d09518d",
   "metadata": {},
   "outputs": [
    {
     "data": {
      "text/plain": [
       "WHO_region\n",
       "AMRO     1194158\n",
       "SEARO     533626\n",
       "EURO      403202\n",
       "EMRO      146837\n",
       "WPRO      122309\n",
       "AFRO      102595\n",
       "OTHER         13\n",
       "Name: Cumulative_deaths, dtype: int64"
      ]
     },
     "execution_count": 37,
     "metadata": {},
     "output_type": "execute_result"
    }
   ],
   "source": [
    "# Total deaths by WHO Region\n",
    "deaths_by_region = df.groupby('WHO_region')['Cumulative_deaths'].max().sort_values(ascending=False)\n",
    "deaths_by_region\n"
   ]
  },
  {
   "cell_type": "markdown",
   "id": "4414cbdd-7d98-4cdf-9f12-73ff5603d60a",
   "metadata": {},
   "source": [
    "Time Series Aggregation"
   ]
  },
  {
   "cell_type": "code",
   "execution_count": 38,
   "id": "809d76fb-3e7b-4674-a921-1cce0f73e609",
   "metadata": {},
   "outputs": [
    {
     "data": {
      "text/plain": [
       "Date_reported\n",
       "2020-01-03       8273.0\n",
       "2020-01-11    3526641.0\n",
       "2020-02-02      12538.0\n",
       "2020-02-08    1839236.0\n",
       "2020-03-05     545638.0\n",
       "2020-04-10    2133124.0\n",
       "2020-05-01          2.0\n",
       "2020-05-04     466289.0\n",
       "2020-05-07    1328647.0\n",
       "2020-06-09    1985046.0\n",
       "Name: New_cases, dtype: float64"
      ]
     },
     "execution_count": 38,
     "metadata": {},
     "output_type": "execute_result"
    }
   ],
   "source": [
    "# Global daily new cases trend\n",
    "daily_cases = df.groupby('Date_reported')['New_cases'].sum()\n",
    "\n",
    "# Show first 10 for quick check\n",
    "daily_cases.head(10)\n"
   ]
  },
  {
   "cell_type": "markdown",
   "id": "2a87be03-3ba6-46e0-ae25-7bfa0ec888a8",
   "metadata": {},
   "source": [
    "# Data Visualization"
   ]
  },
  {
   "cell_type": "markdown",
   "id": "ca6ffa86-a827-41c6-a8f2-72c3a7325a11",
   "metadata": {},
   "source": [
    "Visualization 1: Global Daily New Cases (Line Plot)"
   ]
  },
  {
   "cell_type": "code",
   "execution_count": 39,
   "id": "c4a321f5-6bfc-4055-9a37-70a8d143da90",
   "metadata": {},
   "outputs": [
    {
     "data": {
      "image/png": "[encoded data removed]",
      "text/plain": [
       "<Figure size 1600x600 with 1 Axes>"
      ]
     },
     "metadata": {},
     "output_type": "display_data"
    }
   ],
   "source": [
    "import matplotlib.pyplot as plt\n",
    "import seaborn as sns\n",
    "\n",
    "# Set figure style\n",
    "plt.figure(figsize=(16,6))\n",
    "sns.set_style(\"whitegrid\")\n",
    "\n",
    "# Plotting daily new cases\n",
    "plt.plot(daily_cases.index, daily_cases.values, color='red', linewidth=1.5)\n",
    "\n",
    "# Title & Labels\n",
    "plt.title('Global Daily New COVID-19 Cases', fontsize=18)\n",
    "plt.xlabel('Date', fontsize=12)\n",
    "plt.ylabel('New Cases', fontsize=12)\n",
    "\n",
    "# Rotate x-axis for better readability\n",
    "plt.xticks(rotation=45)\n",
    "\n",
    "# Add grid\n",
    "plt.grid(True)\n",
    "\n",
    "plt.tight_layout()\n",
    "plt.show()\n"
   ]
  },
  {
   "cell_type": "markdown",
   "id": "ad84dfa3-002a-45c3-b939-6e0b3c1c9163",
   "metadata": {},
   "source": [
    "Visualization 2: Top 10 Most Affected Countries (Bar Chart)"
   ]
  },
  {
   "cell_type": "code",
   "execution_count": 40,
   "id": "1d7660b1-62be-418a-8880-fddee5d8b12e",
   "metadata": {},
   "outputs": [
    {
     "data": {
      "image/png": "[encoded data removed]",
      "text/plain": [
       "<Figure size 1200x600 with 1 Axes>"
      ]
     },
     "metadata": {},
     "output_type": "display_data"
    }
   ],
   "source": [
    "# Convert to DataFrame to assign a hue\n",
    "top_countries_df = top_countries.reset_index()\n",
    "top_countries_df.columns = ['Country', 'Cases']\n",
    "top_countries_df['Group'] = 'Top 10'  # Dummy hue\n",
    "\n",
    "plt.figure(figsize=(12,6))\n",
    "sns.barplot(\n",
    "    data=top_countries_df,\n",
    "    x='Cases',\n",
    "    y='Country',\n",
    "    hue='Group',\n",
    "    palette='rocket',\n",
    "    dodge=False,\n",
    "    legend=False  # Optional to hide legend\n",
    ")\n",
    "\n",
    "plt.title('Top 10 Countries by Total COVID-19 Cases', fontsize=16)\n",
    "plt.xlabel('Cumulative Cases', fontsize=12)\n",
    "plt.ylabel('Country', fontsize=12)\n",
    "\n",
    "plt.tight_layout()\n",
    "plt.show()\n"
   ]
  },
  {
   "cell_type": "markdown",
   "id": "35b1c8d2-2b7f-4aaa-bb6d-ce2f6159e110",
   "metadata": {},
   "source": [
    "Visualization 3: Deaths by WHO Region (Pie Chart)"
   ]
  },
  {
   "cell_type": "code",
   "execution_count": 41,
   "id": "e168e2b0-b6ed-4b48-b6cb-2a9494a11fcf",
   "metadata": {},
   "outputs": [
    {
     "data": {
      "image/png": "[encoded data removed]",
      "text/plain": [
       "<Figure size 800x800 with 1 Axes>"
      ]
     },
     "metadata": {},
     "output_type": "display_data"
    }
   ],
   "source": [
    "# Pie Chart\n",
    "plt.figure(figsize=(8,8))\n",
    "plt.pie(\n",
    "    deaths_by_region.values,\n",
    "    labels=deaths_by_region.index,\n",
    "    autopct='%1.1f%%',\n",
    "    startangle=140,\n",
    "    colors=sns.color_palette('Set3')\n",
    ")\n",
    "\n",
    "plt.title('COVID-19 Deaths by WHO Region', fontsize=14)\n",
    "plt.axis('equal')\n",
    "plt.show()\n"
   ]
  },
  {
   "cell_type": "markdown",
   "id": "95a56ed5-47a2-4bce-9c8c-c0186bc95be5",
   "metadata": {},
   "source": [
    "# Advanced Insights & Grouped Analysis"
   ]
  },
  {
   "cell_type": "markdown",
   "id": "1e0f6f28-5141-4f43-83dc-a4e28f61a58e",
   "metadata": {},
   "source": [
    "Year-wise Total Cases & Deaths"
   ]
  },
  {
   "cell_type": "code",
   "execution_count": 42,
   "id": "225484bd-dd0d-4f1b-a0e6-92f93b48a38b",
   "metadata": {},
   "outputs": [
    {
     "data": {
      "text/html": [
       "<div>\n",
       "<style scoped>\n",
       "    .dataframe tbody tr th:only-of-type {\n",
       "        vertical-align: middle;\n",
       "    }\n",
       "\n",
       "    .dataframe tbody tr th {\n",
       "        vertical-align: top;\n",
       "    }\n",
       "\n",
       "    .dataframe thead th {\n",
       "        text-align: right;\n",
       "    }\n",
       "</style>\n",
       "<table border=\"1\" class=\"dataframe\">\n",
       "  <thead>\n",
       "    <tr style=\"text-align: right;\">\n",
       "      <th></th>\n",
       "      <th>New_cases</th>\n",
       "      <th>New_deaths</th>\n",
       "    </tr>\n",
       "    <tr>\n",
       "      <th>Year</th>\n",
       "      <th></th>\n",
       "      <th></th>\n",
       "    </tr>\n",
       "  </thead>\n",
       "  <tbody>\n",
       "    <tr>\n",
       "      <th>2020</th>\n",
       "      <td>27530604.0</td>\n",
       "      <td>670853.0</td>\n",
       "    </tr>\n",
       "    <tr>\n",
       "      <th>2021</th>\n",
       "      <td>78733874.0</td>\n",
       "      <td>1367330.0</td>\n",
       "    </tr>\n",
       "    <tr>\n",
       "      <th>2022</th>\n",
       "      <td>131629920.0</td>\n",
       "      <td>435485.0</td>\n",
       "    </tr>\n",
       "    <tr>\n",
       "      <th>2023</th>\n",
       "      <td>48854857.0</td>\n",
       "      <td>196415.0</td>\n",
       "    </tr>\n",
       "    <tr>\n",
       "      <th>2024</th>\n",
       "      <td>837180.0</td>\n",
       "      <td>17853.0</td>\n",
       "    </tr>\n",
       "  </tbody>\n",
       "</table>\n",
       "</div>"
      ],
      "text/plain": [
       "        New_cases  New_deaths\n",
       "Year                         \n",
       "2020   27530604.0    670853.0\n",
       "2021   78733874.0   1367330.0\n",
       "2022  131629920.0    435485.0\n",
       "2023   48854857.0    196415.0\n",
       "2024     837180.0     17853.0"
      ]
     },
     "execution_count": 42,
     "metadata": {},
     "output_type": "execute_result"
    }
   ],
   "source": [
    "yearly_stats = df.groupby('Year')[['New_cases', 'New_deaths']].sum()\n",
    "yearly_stats"
   ]
  },
  {
   "cell_type": "markdown",
   "id": "d0ece41a-21ad-445e-b655-1a2a61c09892",
   "metadata": {},
   "source": [
    "Region-wise Total New Cases & Deaths"
   ]
  },
  {
   "cell_type": "code",
   "execution_count": 43,
   "id": "fb08c810-780b-443b-9970-1d27a31f89f6",
   "metadata": {},
   "outputs": [
    {
     "data": {
      "text/html": [
       "<div>\n",
       "<style scoped>\n",
       "    .dataframe tbody tr th:only-of-type {\n",
       "        vertical-align: middle;\n",
       "    }\n",
       "\n",
       "    .dataframe tbody tr th {\n",
       "        vertical-align: top;\n",
       "    }\n",
       "\n",
       "    .dataframe thead th {\n",
       "        text-align: right;\n",
       "    }\n",
       "</style>\n",
       "<table border=\"1\" class=\"dataframe\">\n",
       "  <thead>\n",
       "    <tr style=\"text-align: right;\">\n",
       "      <th></th>\n",
       "      <th>New_cases</th>\n",
       "      <th>New_deaths</th>\n",
       "    </tr>\n",
       "    <tr>\n",
       "      <th>WHO_region</th>\n",
       "      <th></th>\n",
       "      <th></th>\n",
       "    </tr>\n",
       "  </thead>\n",
       "  <tbody>\n",
       "    <tr>\n",
       "      <th>EURO</th>\n",
       "      <td>103645755.0</td>\n",
       "      <td>848475.0</td>\n",
       "    </tr>\n",
       "    <tr>\n",
       "      <th>WPRO</th>\n",
       "      <td>77786727.0</td>\n",
       "      <td>220173.0</td>\n",
       "    </tr>\n",
       "    <tr>\n",
       "      <th>AMRO</th>\n",
       "      <td>71145366.0</td>\n",
       "      <td>1111644.0</td>\n",
       "    </tr>\n",
       "    <tr>\n",
       "      <th>SEARO</th>\n",
       "      <td>22651986.0</td>\n",
       "      <td>305014.0</td>\n",
       "    </tr>\n",
       "    <tr>\n",
       "      <th>EMRO</th>\n",
       "      <td>8705559.0</td>\n",
       "      <td>135308.0</td>\n",
       "    </tr>\n",
       "    <tr>\n",
       "      <th>AFRO</th>\n",
       "      <td>3650951.0</td>\n",
       "      <td>67316.0</td>\n",
       "    </tr>\n",
       "    <tr>\n",
       "      <th>OTHER</th>\n",
       "      <td>91.0</td>\n",
       "      <td>6.0</td>\n",
       "    </tr>\n",
       "  </tbody>\n",
       "</table>\n",
       "</div>"
      ],
      "text/plain": [
       "              New_cases  New_deaths\n",
       "WHO_region                         \n",
       "EURO        103645755.0    848475.0\n",
       "WPRO         77786727.0    220173.0\n",
       "AMRO         71145366.0   1111644.0\n",
       "SEARO        22651986.0    305014.0\n",
       "EMRO          8705559.0    135308.0\n",
       "AFRO          3650951.0     67316.0\n",
       "OTHER              91.0         6.0"
      ]
     },
     "execution_count": 43,
     "metadata": {},
     "output_type": "execute_result"
    }
   ],
   "source": [
    "region_stats = df.groupby('WHO_region')[['New_cases', 'New_deaths']].sum().sort_values(by='New_cases', ascending=False)\n",
    "region_stats\n"
   ]
  },
  {
   "cell_type": "markdown",
   "id": "e2874014-8bc1-4d36-b81e-1e1872e0426a",
   "metadata": {},
   "source": [
    "Top 5 Countries by Year (Multi-level GroupBy)"
   ]
  },
  {
   "cell_type": "code",
   "execution_count": 44,
   "id": "e8dfe81e-427f-494a-8d56-e6c28446ec2a",
   "metadata": {},
   "outputs": [
    {
     "data": {
      "text/html": [
       "<div>\n",
       "<style scoped>\n",
       "    .dataframe tbody tr th:only-of-type {\n",
       "        vertical-align: middle;\n",
       "    }\n",
       "\n",
       "    .dataframe tbody tr th {\n",
       "        vertical-align: top;\n",
       "    }\n",
       "\n",
       "    .dataframe thead th {\n",
       "        text-align: right;\n",
       "    }\n",
       "</style>\n",
       "<table border=\"1\" class=\"dataframe\">\n",
       "  <thead>\n",
       "    <tr style=\"text-align: right;\">\n",
       "      <th></th>\n",
       "      <th>Year</th>\n",
       "      <th>Country</th>\n",
       "      <th>New_cases</th>\n",
       "    </tr>\n",
       "  </thead>\n",
       "  <tbody>\n",
       "    <tr>\n",
       "      <th>229</th>\n",
       "      <td>2020</td>\n",
       "      <td>United States of America</td>\n",
       "      <td>6026022.0</td>\n",
       "    </tr>\n",
       "    <tr>\n",
       "      <th>96</th>\n",
       "      <td>2020</td>\n",
       "      <td>India</td>\n",
       "      <td>3723124.0</td>\n",
       "    </tr>\n",
       "    <tr>\n",
       "      <th>28</th>\n",
       "      <td>2020</td>\n",
       "      <td>Brazil</td>\n",
       "      <td>2661548.0</td>\n",
       "    </tr>\n",
       "    <tr>\n",
       "      <th>178</th>\n",
       "      <td>2020</td>\n",
       "      <td>Russian Federation</td>\n",
       "      <td>1006958.0</td>\n",
       "    </tr>\n",
       "    <tr>\n",
       "      <th>72</th>\n",
       "      <td>2020</td>\n",
       "      <td>France</td>\n",
       "      <td>974674.0</td>\n",
       "    </tr>\n",
       "    <tr>\n",
       "      <th>469</th>\n",
       "      <td>2021</td>\n",
       "      <td>United States of America</td>\n",
       "      <td>13336267.0</td>\n",
       "    </tr>\n",
       "    <tr>\n",
       "      <th>336</th>\n",
       "      <td>2021</td>\n",
       "      <td>India</td>\n",
       "      <td>10304081.0</td>\n",
       "    </tr>\n",
       "    <tr>\n",
       "      <th>268</th>\n",
       "      <td>2021</td>\n",
       "      <td>Brazil</td>\n",
       "      <td>5425357.0</td>\n",
       "    </tr>\n",
       "    <tr>\n",
       "      <th>466</th>\n",
       "      <td>2021</td>\n",
       "      <td>United Kingdom of Great Britain and Northern I...</td>\n",
       "      <td>3812298.0</td>\n",
       "    </tr>\n",
       "    <tr>\n",
       "      <th>462</th>\n",
       "      <td>2021</td>\n",
       "      <td>T�rkiye</td>\n",
       "      <td>2989919.0</td>\n",
       "    </tr>\n",
       "    <tr>\n",
       "      <th>709</th>\n",
       "      <td>2022</td>\n",
       "      <td>United States of America</td>\n",
       "      <td>17542096.0</td>\n",
       "    </tr>\n",
       "    <tr>\n",
       "      <th>552</th>\n",
       "      <td>2022</td>\n",
       "      <td>France</td>\n",
       "      <td>11523517.0</td>\n",
       "    </tr>\n",
       "    <tr>\n",
       "      <th>558</th>\n",
       "      <td>2022</td>\n",
       "      <td>Germany</td>\n",
       "      <td>10599719.0</td>\n",
       "    </tr>\n",
       "    <tr>\n",
       "      <th>655</th>\n",
       "      <td>2022</td>\n",
       "      <td>Republic of Korea</td>\n",
       "      <td>9345066.0</td>\n",
       "    </tr>\n",
       "    <tr>\n",
       "      <th>591</th>\n",
       "      <td>2022</td>\n",
       "      <td>Japan</td>\n",
       "      <td>8552908.0</td>\n",
       "    </tr>\n",
       "    <tr>\n",
       "      <th>762</th>\n",
       "      <td>2023</td>\n",
       "      <td>China</td>\n",
       "      <td>33260706.0</td>\n",
       "    </tr>\n",
       "    <tr>\n",
       "      <th>895</th>\n",
       "      <td>2023</td>\n",
       "      <td>Republic of Korea</td>\n",
       "      <td>2967149.0</td>\n",
       "    </tr>\n",
       "    <tr>\n",
       "      <th>831</th>\n",
       "      <td>2023</td>\n",
       "      <td>Japan</td>\n",
       "      <td>2842910.0</td>\n",
       "    </tr>\n",
       "    <tr>\n",
       "      <th>949</th>\n",
       "      <td>2023</td>\n",
       "      <td>United States of America</td>\n",
       "      <td>2182963.0</td>\n",
       "    </tr>\n",
       "    <tr>\n",
       "      <th>898</th>\n",
       "      <td>2023</td>\n",
       "      <td>Russian Federation</td>\n",
       "      <td>878940.0</td>\n",
       "    </tr>\n",
       "    <tr>\n",
       "      <th>1138</th>\n",
       "      <td>2024</td>\n",
       "      <td>Russian Federation</td>\n",
       "      <td>218338.0</td>\n",
       "    </tr>\n",
       "    <tr>\n",
       "      <th>971</th>\n",
       "      <td>2024</td>\n",
       "      <td>Australia</td>\n",
       "      <td>55859.0</td>\n",
       "    </tr>\n",
       "    <tr>\n",
       "      <th>1114</th>\n",
       "      <td>2024</td>\n",
       "      <td>New Zealand</td>\n",
       "      <td>55656.0</td>\n",
       "    </tr>\n",
       "    <tr>\n",
       "      <th>1041</th>\n",
       "      <td>2024</td>\n",
       "      <td>Greece</td>\n",
       "      <td>47917.0</td>\n",
       "    </tr>\n",
       "    <tr>\n",
       "      <th>1069</th>\n",
       "      <td>2024</td>\n",
       "      <td>Italy</td>\n",
       "      <td>44885.0</td>\n",
       "    </tr>\n",
       "  </tbody>\n",
       "</table>\n",
       "</div>"
      ],
      "text/plain": [
       "      Year                                            Country   New_cases\n",
       "229   2020                           United States of America   6026022.0\n",
       "96    2020                                              India   3723124.0\n",
       "28    2020                                             Brazil   2661548.0\n",
       "178   2020                                 Russian Federation   1006958.0\n",
       "72    2020                                             France    974674.0\n",
       "469   2021                           United States of America  13336267.0\n",
       "336   2021                                              India  10304081.0\n",
       "268   2021                                             Brazil   5425357.0\n",
       "466   2021  United Kingdom of Great Britain and Northern I...   3812298.0\n",
       "462   2021                                            T�rkiye   2989919.0\n",
       "709   2022                           United States of America  17542096.0\n",
       "552   2022                                             France  11523517.0\n",
       "558   2022                                            Germany  10599719.0\n",
       "655   2022                                  Republic of Korea   9345066.0\n",
       "591   2022                                              Japan   8552908.0\n",
       "762   2023                                              China  33260706.0\n",
       "895   2023                                  Republic of Korea   2967149.0\n",
       "831   2023                                              Japan   2842910.0\n",
       "949   2023                           United States of America   2182963.0\n",
       "898   2023                                 Russian Federation    878940.0\n",
       "1138  2024                                 Russian Federation    218338.0\n",
       "971   2024                                          Australia     55859.0\n",
       "1114  2024                                        New Zealand     55656.0\n",
       "1041  2024                                             Greece     47917.0\n",
       "1069  2024                                              Italy     44885.0"
      ]
     },
     "execution_count": 44,
     "metadata": {},
     "output_type": "execute_result"
    }
   ],
   "source": [
    "# Group by Year and Country, then sum new cases\n",
    "year_country_group = df.groupby(['Year', 'Country'])['New_cases'].sum().reset_index()\n",
    "\n",
    "# Sort within each year\n",
    "top5_each_year = year_country_group.sort_values(['Year', 'New_cases'], ascending=[True, False]).groupby('Year').head(5)\n",
    "top5_each_year\n"
   ]
  },
  {
   "cell_type": "code",
   "execution_count": null,
   "id": "e70f9cb5-188e-4c73-ac8a-c9fd3ca52040",
   "metadata": {},
   "outputs": [],
   "source": []
  }
 ],
 "metadata": {
  "kernelspec": {
   "display_name": "Python [conda env:base] *",
   "language": "python",
   "name": "conda-base-py"
  },
  "language_info": {
   "codemirror_mode": {
    "name": "ipython",
    "version": 3
   },
   "file_extension": ".py",
   "mimetype": "text/x-python",
   "name": "python",
   "nbconvert_exporter": "python",
   "pygments_lexer": "ipython3",
   "version": "3.13.5"
  }
 },
 "nbformat": 4,
 "nbformat_minor": 5
}
